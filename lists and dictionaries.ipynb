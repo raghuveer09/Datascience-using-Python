{
 "cells": [
  {
   "cell_type": "code",
   "execution_count": 23,
   "metadata": {},
   "outputs": [
    {
     "name": "stdout",
     "output_type": "stream",
     "text": [
      "1\n",
      "2\n",
      "3\n",
      "4\n",
      "5\n",
      "6\n",
      "7\n",
      "1\n",
      "2\n",
      "3\n",
      "4\n",
      "5\n",
      "6\n",
      "7\n"
     ]
    },
    {
     "data": {
      "text/plain": [
       "[1, 2, 3, 4, 5, 6, 7]"
      ]
     },
     "execution_count": 23,
     "metadata": {},
     "output_type": "execute_result"
    }
   ],
   "source": [
    "#Lists\n",
    "myList=[1,2,3,4,5,6]\n",
    "myList\n",
    "#adding value at the end\n",
    "myList.append(7)\n",
    "myList\n",
    "#inserting value at specific index\n",
    "myList.insert(1,12)\n",
    "myList\n",
    "#removing with values\n",
    "myList.remove(12)\n",
    "myList\n",
    "#slicing r indexing with lists\n",
    "myList[1]\n",
    "myList[0:]\n",
    "myList[-1]\n",
    "myList[-3:-1]\n",
    "#appling loops with lists\n",
    "for i in myList:\n",
    "    print(i)\n",
    "z=len(myList)\n",
    "z\n",
    "i=0\n",
    "while i<=6:\n",
    "    i+=1\n",
    "    print(i)\n",
    "myList"
   ]
  },
  {
   "cell_type": "code",
   "execution_count": 57,
   "metadata": {},
   "outputs": [
    {
     "data": {
      "text/plain": [
       "{'name': 'Ph', 'occupation': 'Software_Engineer', 'Husband': 'Ra'}"
      ]
     },
     "execution_count": 57,
     "metadata": {},
     "output_type": "execute_result"
    }
   ],
   "source": [
    "#Dictionaries \n",
    "myDict={\"name\":\"Ph\",\"age\":24,\"occupation\":\"Software_Engineer\",\"Husband\":\"Ra\"}\n",
    "myDict\n",
    "myDict.values()\n",
    "myDict[\"name\"]\n",
    "myDict[\"Husband\"]\n",
    "myDict.pop(\"age\")\n",
    "myDict"
   ]
  },
  {
   "cell_type": "code",
   "execution_count": null,
   "metadata": {},
   "outputs": [],
   "source": []
  }
 ],
 "metadata": {
  "kernelspec": {
   "display_name": "Python 3",
   "language": "python",
   "name": "python3"
  },
  "language_info": {
   "codemirror_mode": {
    "name": "ipython",
    "version": 3
   },
   "file_extension": ".py",
   "mimetype": "text/x-python",
   "name": "python",
   "nbconvert_exporter": "python",
   "pygments_lexer": "ipython3",
   "version": "3.8.5"
  }
 },
 "nbformat": 4,
 "nbformat_minor": 4
}
