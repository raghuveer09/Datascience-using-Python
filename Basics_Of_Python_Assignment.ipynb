{
 "cells": [
  {
   "cell_type": "markdown",
   "metadata": {},
   "source": [
    "#Python Basics Assignment\n",
    "#Python Basics Types,Expressinons and Variables,String Operations\n"
   ]
  },
  {
   "cell_type": "code",
   "execution_count": 1,
   "metadata": {},
   "outputs": [
    {
     "name": "stdout",
     "output_type": "stream",
     "text": [
      "<class 'int'>\n",
      "<class 'float'>\n",
      "<class 'str'>\n",
      "<class 'bool'>\n",
      "<class 'float'>\n"
     ]
    }
   ],
   "source": [
    "#Python Basics Types,Expressinons and Variables,String Operations\n",
    "#Types\n",
    "a=1\n",
    "print(type(a))\n",
    "b=1.1\n",
    "print(type(b))\n",
    "c='string'\n",
    "print(type(c))\n",
    "d=True\n",
    "print(type(d))\n",
    "e=-1.1\n",
    "print(type(e))"
   ]
  },
  {
   "cell_type": "code",
   "execution_count": 3,
   "metadata": {},
   "outputs": [
    {
     "name": "stdout",
     "output_type": "stream",
     "text": [
      "6\n",
      "5\n",
      "-24\n",
      "5.0\n",
      "5\n",
      "5\n",
      "3125\n",
      "0\n"
     ]
    }
   ],
   "source": [
    "#Expressions and Variables\n",
    "a=5\n",
    "b=1\n",
    "c=a+b\n",
    "d=a+b-1\n",
    "e=a+b-c*d\n",
    "print(c)\n",
    "print(d)\n",
    "print(e)\n",
    "f=a/b\n",
    "g=a//b\n",
    "h=a*b\n",
    "i=a**a\n",
    "j=a%b\n",
    "print(f)\n",
    "print(g)\n",
    "print(h)\n",
    "print(i)\n",
    "print(j)"
   ]
  },
  {
   "cell_type": "code",
   "execution_count": 18,
   "metadata": {},
   "outputs": [
    {
     "name": "stdout",
     "output_type": "stream",
     "text": [
      "Hello World My name is Raghu\n",
      "Hello WorldHello WorldHello World\n",
      "0.6470588235294118\n"
     ]
    }
   ],
   "source": [
    "#String Operatins\n",
    "string=\"Hello World\"\n",
    "string1=\" My name is Raghu\"\n",
    "x=print(string+string1)\n",
    "y=print(string*3)\n",
    "len(string)\n",
    "z=len(string)/len(string1)\n",
    "print(z)"
   ]
  },
  {
   "cell_type": "code",
   "execution_count": 110,
   "metadata": {},
   "outputs": [
    {
     "name": "stdout",
     "output_type": "stream",
     "text": [
      "[20, 10, 5, 10, 20]\n",
      "[20, 10, 5, 10, 20, 3]\n",
      "[20, 10, 5, 10, 20, 3, 8, 9]\n",
      "[20, 10, 7, 5, 10, 20, 3, 8, 9]\n",
      "[20, 10, 7, 5, 10, 20, 3, 8]\n",
      "[20, 7, 5, 10, 20, 3, 8]\n",
      "[20, 5, 10, 20, 3, 8]\n",
      "[5, 5, 5, 5, 5, 5, 5, 5, 5, 5]\n",
      "[20, 5, 10, 20, 3, 8, 20, 5, 10, 20, 3, 8, 20, 5, 10, 20, 3, 8, 20, 5, 10, 20, 3, 8, 20, 5, 10, 20, 3, 8]\n",
      "20\n",
      "[20, 5, 10, 20, 3, 8, 20, 5, 10, 20, 3, 8, 20, 5, 10, 20, 3, 8, 20, 5, 10, 20, 3, 8, 20, 5, 10, 20, 3, 8]\n",
      "[20, 5, 10, 20]\n",
      "8\n",
      "[20, 5, 10, 20, 3, 8, 20, 5, 10, 20, 3, 8]\n",
      "False\n",
      "20\n",
      "5\n",
      "10\n",
      "20\n",
      "3\n",
      "8\n",
      "20\n",
      "5\n",
      "10\n",
      "20\n",
      "3\n",
      "8\n",
      "20\n",
      "5\n",
      "10\n",
      "20\n",
      "3\n",
      "8\n",
      "20\n",
      "5\n",
      "10\n",
      "20\n",
      "3\n",
      "8\n",
      "20\n",
      "5\n",
      "10\n",
      "20\n",
      "3\n",
      "8\n",
      "40\n",
      "10\n",
      "20\n",
      "40\n",
      "6\n",
      "16\n",
      "40\n",
      "10\n",
      "20\n",
      "40\n",
      "6\n",
      "16\n",
      "40\n",
      "10\n",
      "20\n",
      "40\n",
      "6\n",
      "16\n",
      "40\n",
      "10\n",
      "20\n",
      "40\n",
      "6\n",
      "16\n",
      "40\n",
      "10\n",
      "20\n",
      "40\n",
      "6\n",
      "16\n"
     ]
    }
   ],
   "source": [
    "##Python DataStructures lists,tuples,Dictionaries,sets\n",
    "#list\n",
    "my_list=[20,10,5,10,20]\n",
    "print(my_list)\n",
    "#adding elements to my_list\n",
    "my_list.append(3)#adding one element at last index\n",
    "print(my_list)\n",
    "my_list.extend([8,9])# adding multiple elements at last\n",
    "print(my_list)\n",
    "my_list.insert(2,7)# adding an element by specific index\n",
    "print(my_list)\n",
    "#removing elements\n",
    "my_list.pop()#last element will be deleted\n",
    "print(my_list)\n",
    "my_list.remove(10)\n",
    "print(my_list)# removes first occurrence of 10\n",
    "my_list.pop(1)#removes by index number\n",
    "print(my_list)\n",
    "#concatenating two lists\n",
    "my_list1=[5,5,5,5,5]\n",
    "my_list2=[5,5,5,5,5]\n",
    "m_list=list(my_list1+my_list2)\n",
    "print(m_list)\n",
    "#operations on lists\n",
    "lst=my_list*5\n",
    "print(lst)\n",
    "#slicing and indexing\n",
    "print(lst[0])\n",
    "print(lst[0:])\n",
    "print(lst[0:4])\n",
    "print(lst[-1])\n",
    "print(lst[-12:])\n",
    "print(34 in lst)\n",
    "#iterations \n",
    "for i in lst:\n",
    "    print(i)\n",
    "for i in lst:\n",
    "    print(i*2)"
   ]
  },
  {
   "cell_type": "code",
   "execution_count": 107,
   "metadata": {},
   "outputs": [
    {
     "name": "stdout",
     "output_type": "stream",
     "text": [
      "{'name': 'raghu', 'age': 26}\n",
      "dict_values(['raghu', 26])\n",
      "raghu\n",
      "{'name': 'raj', 'age': 26}\n",
      "{'name': 'raj', 'age': 26}\n",
      "{'name': 'raghu', 'age': 26, 'occupation': 'SE'}\n",
      "<class 'dict'>\n",
      "{'age': 26, 'occupation': 'SE'}\n",
      "('occupation', 'SE')\n",
      "dict_items([('name', 'raj'), ('age', 26)])\n",
      "dict_keys(['name', 'age'])\n",
      "26\n",
      "{'age': 26, 'name': 'raghu', 'occupation': 'SE'}\n",
      "26\n",
      "{}\n",
      "True\n",
      "raj\n",
      "26\n",
      "name\n",
      "age\n"
     ]
    }
   ],
   "source": [
    "#dictionaries\n",
    "my_dict={'name':'raghu',\"age\":26}\n",
    "print(my_dict)\n",
    "print(my_dict.values())## printing nly dict values\n",
    "print(my_dict['name'])#accessing by key name\n",
    "my_dict['name']='raj'#changing name \n",
    "print(my_dict)\n",
    "my_dict1=my_dict.copy()#copying the dictionary\n",
    "print(my_dict1)\n",
    "my_dict.update({\"name\":'raghu','occupation':\"SE\"})#updating the dictionary\n",
    "print(my_dict)\n",
    "print(type(my_dict))\n",
    "len(my_dict)\n",
    "my_dict.pop('name')\n",
    "print(my_dict)\n",
    "print(my_dict.popitem())\n",
    "print(my_dict1.items())\n",
    "print(my_dict1.keys())\n",
    "print(my_dict1.setdefault('age'))\n",
    "my_dict.update({'name':'raghu','occupation':'SE'})\n",
    "print(my_dict)\n",
    "print(my_dict.get('age'))\n",
    "my_dict.clear()\n",
    "print(my_dict)\n",
    "print(88 not in my_dict1)\n",
    "for i in my_dict1.values():\n",
    "    print(i)\n",
    "for j in my_dict1:\n",
    "    print(j)"
   ]
  },
  {
   "cell_type": "code",
   "execution_count": 114,
   "metadata": {},
   "outputs": [
    {
     "name": "stdout",
     "output_type": "stream",
     "text": [
      "(1, 2, 3, 4, 5, 1)\n",
      "1\n",
      "(1, 2, 3, 4, 5, 1)\n",
      "(1,)\n",
      "(1, 2, 3, 4, 5, 1)\n",
      "(1, 2, 3, 4, 5, 1, 1, 2, 3, 4, 5, 1)\n",
      "(1, 2, (3, 4))\n",
      "4\n",
      "True\n",
      "1\n",
      "2\n",
      "(3, 4)\n",
      "2\n",
      "4\n",
      "(3, 4, 3, 4)\n"
     ]
    }
   ],
   "source": [
    "#tuples same as lists but immutable \n",
    "tup=(1,2,3,4,5,1)\n",
    "print(tup)\n",
    "print(tup[0])\n",
    "print(tup[0:])\n",
    "print(tup[-1:])\n",
    "print(tup)\n",
    "print(tup*2)\n",
    "tup1=(1,2,(3,4))\n",
    "print(tup1)\n",
    "print(tup1[2][1])\n",
    "del tup\n",
    "print(88 not in tup1)\n",
    "for i in tup1:\n",
    "    print(i)\n",
    "for i in tup1:\n",
    "    print(i*2)"
   ]
  },
  {
   "cell_type": "code",
   "execution_count": 130,
   "metadata": {},
   "outputs": [
    {
     "name": "stdout",
     "output_type": "stream",
     "text": [
      "{1, 2, 3, 4, 5}\n",
      "<class 'set'>\n",
      "{1, 2, 3, 4, 5, 6, 7, 8}\n",
      "{1, 2, 3, 4, 5, 6, 7, 8}\n",
      "{1, 2, 3, 4, 5}\n",
      "set()\n",
      "{6, 7, 8}\n",
      "{'tue', 'mon'}\n",
      "<class 'set'>\n",
      "{'tue', 'sun', 'mon'}\n",
      "{'tue', 'mon'}\n",
      "False\n"
     ]
    }
   ],
   "source": [
    "# sets unordered cllection of elements with n duplicates \n",
    "set1={1,1,2,2,3,4,5}\n",
    "print(set1)\n",
    "print(type(set1))\n",
    "set2={1,2,3,3,4,4,5,6,7,8}\n",
    "print(set2)\n",
    "print(set1|set2)\n",
    "print(set1&set2)\n",
    "print(set1-set2)\n",
    "print(set1^set2)\n",
    "days=set(['mon','tue'])\n",
    "print(days)\n",
    "print(type(days))\n",
    "days.add(\"sun\")\n",
    "print(days)\n",
    "days.discard(\"sun\")\n",
    "print(days)\n",
    "print(set1>=set2)"
   ]
  },
  {
   "cell_type": "code",
   "execution_count": 1,
   "metadata": {},
   "outputs": [
    {
     "name": "stdout",
     "output_type": "stream",
     "text": [
      "Hello world\n",
      "a is less tahn or equal to 1\n",
      "enter your passwordhello\n",
      "welcome\n",
      "x less than 15\n"
     ]
    }
   ],
   "source": [
    "##python programing fundamentals\n",
    "#conditions and branching in python\n",
    "if True:\n",
    "    print(\"Hello world\")\n",
    "if False:\n",
    "    print(\"Hello \")\n",
    "a=1\n",
    "if a<=1:\n",
    "    print(\"a is less tahn or equal to 1\")\n",
    "else:\n",
    "    print(\"a is greater than 1\")\n",
    "pwd='hello'\n",
    "a=input(\"enter your password\")\n",
    "if a==pwd:\n",
    "    print(\"welcome\")\n",
    "else:\n",
    "    print(\"retry your password\")\n",
    "x=12\n",
    "if x<10:\n",
    "    print(\"x less than 10\")\n",
    "elif x<15:\n",
    "    print(\"x less than 15\")\n",
    "else:\n",
    "    print(\"x greater than or equal to 15\")"
   ]
  },
  {
   "cell_type": "code",
   "execution_count": 2,
   "metadata": {},
   "outputs": [
    {
     "name": "stdout",
     "output_type": "stream",
     "text": [
      "2\n",
      "3\n",
      "4\n",
      "5\n",
      "6\n"
     ]
    }
   ],
   "source": [
    "#while loop\n",
    "i=1\n",
    "while i<=5:\n",
    "    i+=1\n",
    "    print(i)"
   ]
  },
  {
   "cell_type": "code",
   "execution_count": 3,
   "metadata": {},
   "outputs": [
    {
     "name": "stdout",
     "output_type": "stream",
     "text": [
      "1\n",
      "2\n",
      "3\n"
     ]
    }
   ],
   "source": [
    "#for loop\n",
    "l=[1,2,3]\n",
    "for i in l:\n",
    "    print(i)"
   ]
  },
  {
   "cell_type": "code",
   "execution_count": 8,
   "metadata": {},
   "outputs": [
    {
     "data": {
      "text/plain": [
       "[0, 2, 4, 6, 8]"
      ]
     },
     "execution_count": 8,
     "metadata": {},
     "output_type": "execute_result"
    }
   ],
   "source": [
    "x=[i*2 for i in range(5)]\n",
    "x"
   ]
  },
  {
   "cell_type": "code",
   "execution_count": 10,
   "metadata": {},
   "outputs": [
    {
     "data": {
      "text/plain": [
       "3"
      ]
     },
     "execution_count": 10,
     "metadata": {},
     "output_type": "execute_result"
    }
   ],
   "source": [
    "#lambda function\n",
    "sum=lambda a,b:a+b\n",
    "sum(1,2)"
   ]
  },
  {
   "cell_type": "code",
   "execution_count": null,
   "metadata": {},
   "outputs": [],
   "source": []
  },
  {
   "cell_type": "code",
   "execution_count": 2,
   "metadata": {},
   "outputs": [
    {
     "name": "stdout",
     "output_type": "stream",
     "text": [
      "3\n",
      "7\n",
      "16\n"
     ]
    }
   ],
   "source": [
    "#functions \n",
    "def add():\n",
    "    a=1\n",
    "    b=2\n",
    "    c=a+b\n",
    "    return c\n",
    "print(add())#same output for any \n",
    "def add1(a,b):\n",
    "    c=a+b\n",
    "    return c\n",
    "print(add1(3,4))#gives based on ur passed values\n",
    "\n",
    "def add2(a,*b):\n",
    "    for i in b:\n",
    "        c=a+i\n",
    "        d=a+c\n",
    "    return d\n",
    "print(add2(2,2,12))\n"
   ]
  },
  {
   "cell_type": "code",
   "execution_count": 27,
   "metadata": {},
   "outputs": [
    {
     "name": "stdout",
     "output_type": "stream",
     "text": [
      "ram\n",
      "The author of the book is  ram  and the book is published in the year  2020\n"
     ]
    }
   ],
   "source": [
    "#objects and classes\n",
    "class book:\n",
    "    def __init__(self,author,published_year):\n",
    "        self.author=author\n",
    "        self.published_year=published_year\n",
    "    def my_func(self):\n",
    "        print(\"The author of the book is \",self.author,\" and the book is published in the year \",self.published_year)\n",
    "my_book=book(\"raghu\",2020)#object creation\n",
    "my_book.author#accesing the object or initiating through dot notation\n",
    "my_book.published_year\n",
    "my_book.author='ram'\n",
    "print(my_book.author)\n",
    "my_book.my_func()\n",
    "del my_book.author\n",
    "my_book.author"
   ]
  },
  {
   "cell_type": "code",
   "execution_count": 31,
   "metadata": {},
   "outputs": [
    {
     "ename": "UnsupportedOperation",
     "evalue": "not writable",
     "output_type": "error",
     "traceback": [
      "\u001b[1;31m---------------------------------------------------------------------------\u001b[0m",
      "\u001b[1;31mUnsupportedOperation\u001b[0m                      Traceback (most recent call last)",
      "\u001b[1;32m<ipython-input-31-61816a38d75e>\u001b[0m in \u001b[0;36m<module>\u001b[1;34m\u001b[0m\n\u001b[0;32m      2\u001b[0m \u001b[1;31m#reading files\u001b[0m\u001b[1;33m\u001b[0m\u001b[1;33m\u001b[0m\u001b[1;33m\u001b[0m\u001b[0m\n\u001b[0;32m      3\u001b[0m \u001b[0mfo\u001b[0m\u001b[1;33m=\u001b[0m\u001b[0mopen\u001b[0m\u001b[1;33m(\u001b[0m\u001b[1;34m\"df1.csv\"\u001b[0m\u001b[1;33m,\u001b[0m\u001b[1;34m\"r\"\u001b[0m\u001b[1;33m)\u001b[0m\u001b[1;33m\u001b[0m\u001b[1;33m\u001b[0m\u001b[0m\n\u001b[1;32m----> 4\u001b[1;33m \u001b[0mfo\u001b[0m\u001b[1;33m.\u001b[0m\u001b[0mwrite\u001b[0m\u001b[1;33m(\u001b[0m\u001b[1;34m\"hello sam how are u\"\u001b[0m\u001b[1;33m)\u001b[0m\u001b[1;33m\u001b[0m\u001b[1;33m\u001b[0m\u001b[0m\n\u001b[0m\u001b[0;32m      5\u001b[0m \u001b[0mfo\u001b[0m\u001b[1;33m.\u001b[0m\u001b[0mclose\u001b[0m\u001b[1;33m(\u001b[0m\u001b[1;33m)\u001b[0m\u001b[1;33m\u001b[0m\u001b[1;33m\u001b[0m\u001b[0m\n",
      "\u001b[1;31mUnsupportedOperation\u001b[0m: not writable"
     ]
    }
   ],
   "source": [
    "#working with data in python\n",
    "#reading files\n",
    "fo=open(\"df1.csv\",\"r\")\n",
    "fo.write(\"hello sam how are u\")\n",
    "fo.close()"
   ]
  },
  {
   "cell_type": "code",
   "execution_count": 32,
   "metadata": {},
   "outputs": [],
   "source": [
    "f=open(\"sample.txt\",'w')\n",
    "f.write(\"hello this is sample writing text file\")\n",
    "f.close()"
   ]
  },
  {
   "cell_type": "code",
   "execution_count": 37,
   "metadata": {},
   "outputs": [
    {
     "name": "stdout",
     "output_type": "stream",
     "text": [
      "<_io.TextIOWrapper name='sample.txt' mode='r' encoding='cp1252'>\n"
     ]
    }
   ],
   "source": [
    "f1=open('sample.txt','r')\n",
    "print(f1)\n",
    "f1.close()"
   ]
  },
  {
   "cell_type": "code",
   "execution_count": 43,
   "metadata": {},
   "outputs": [
    {
     "data": {
      "text/html": [
       "<div>\n",
       "<style scoped>\n",
       "    .dataframe tbody tr th:only-of-type {\n",
       "        vertical-align: middle;\n",
       "    }\n",
       "\n",
       "    .dataframe tbody tr th {\n",
       "        vertical-align: top;\n",
       "    }\n",
       "\n",
       "    .dataframe thead th {\n",
       "        text-align: right;\n",
       "    }\n",
       "</style>\n",
       "<table border=\"1\" class=\"dataframe\">\n",
       "  <thead>\n",
       "    <tr style=\"text-align: right;\">\n",
       "      <th></th>\n",
       "      <th>Unnamed: 0</th>\n",
       "      <th>0</th>\n",
       "      <th>1</th>\n",
       "      <th>2</th>\n",
       "      <th>3</th>\n",
       "    </tr>\n",
       "  </thead>\n",
       "  <tbody>\n",
       "    <tr>\n",
       "      <th>0</th>\n",
       "      <td>0</td>\n",
       "      <td>0</td>\n",
       "      <td>1</td>\n",
       "      <td>2</td>\n",
       "      <td>3</td>\n",
       "    </tr>\n",
       "    <tr>\n",
       "      <th>1</th>\n",
       "      <td>1</td>\n",
       "      <td>4</td>\n",
       "      <td>5</td>\n",
       "      <td>6</td>\n",
       "      <td>7</td>\n",
       "    </tr>\n",
       "    <tr>\n",
       "      <th>2</th>\n",
       "      <td>2</td>\n",
       "      <td>8</td>\n",
       "      <td>9</td>\n",
       "      <td>10</td>\n",
       "      <td>11</td>\n",
       "    </tr>\n",
       "    <tr>\n",
       "      <th>3</th>\n",
       "      <td>3</td>\n",
       "      <td>12</td>\n",
       "      <td>13</td>\n",
       "      <td>14</td>\n",
       "      <td>15</td>\n",
       "    </tr>\n",
       "    <tr>\n",
       "      <th>4</th>\n",
       "      <td>4</td>\n",
       "      <td>16</td>\n",
       "      <td>17</td>\n",
       "      <td>18</td>\n",
       "      <td>19</td>\n",
       "    </tr>\n",
       "  </tbody>\n",
       "</table>\n",
       "</div>"
      ],
      "text/plain": [
       "   Unnamed: 0   0   1   2   3\n",
       "0           0   0   1   2   3\n",
       "1           1   4   5   6   7\n",
       "2           2   8   9  10  11\n",
       "3           3  12  13  14  15\n",
       "4           4  16  17  18  19"
      ]
     },
     "execution_count": 43,
     "metadata": {},
     "output_type": "execute_result"
    }
   ],
   "source": [
    "#pandas\n",
    "import pandas as pd\n",
    "df=pd.read_csv('test_df.csv')\n",
    "df.head()"
   ]
  },
  {
   "cell_type": "code",
   "execution_count": 46,
   "metadata": {},
   "outputs": [
    {
     "data": {
      "text/plain": [
       "pandas.core.frame.DataFrame"
      ]
     },
     "execution_count": 46,
     "metadata": {},
     "output_type": "execute_result"
    }
   ],
   "source": [
    "type(df)"
   ]
  },
  {
   "cell_type": "code",
   "execution_count": 47,
   "metadata": {},
   "outputs": [
    {
     "data": {
      "text/plain": [
       "array([ 0,  4,  8, 12, 16], dtype=int64)"
      ]
     },
     "execution_count": 47,
     "metadata": {},
     "output_type": "execute_result"
    }
   ],
   "source": [
    "df['0'].unique()"
   ]
  },
  {
   "cell_type": "code",
   "execution_count": 48,
   "metadata": {},
   "outputs": [
    {
     "data": {
      "text/plain": [
       "0   1 \n",
       "16  17    1\n",
       "12  13    1\n",
       "8   9     1\n",
       "4   5     1\n",
       "0   1     1\n",
       "dtype: int64"
      ]
     },
     "execution_count": 48,
     "metadata": {},
     "output_type": "execute_result"
    }
   ],
   "source": [
    "df[['0','1']].value_counts()"
   ]
  },
  {
   "cell_type": "code",
   "execution_count": 51,
   "metadata": {},
   "outputs": [],
   "source": [
    "df['0']=[1,2,3,4,4]"
   ]
  },
  {
   "cell_type": "code",
   "execution_count": 52,
   "metadata": {},
   "outputs": [
    {
     "data": {
      "text/html": [
       "<div>\n",
       "<style scoped>\n",
       "    .dataframe tbody tr th:only-of-type {\n",
       "        vertical-align: middle;\n",
       "    }\n",
       "\n",
       "    .dataframe tbody tr th {\n",
       "        vertical-align: top;\n",
       "    }\n",
       "\n",
       "    .dataframe thead th {\n",
       "        text-align: right;\n",
       "    }\n",
       "</style>\n",
       "<table border=\"1\" class=\"dataframe\">\n",
       "  <thead>\n",
       "    <tr style=\"text-align: right;\">\n",
       "      <th></th>\n",
       "      <th>Unnamed: 0</th>\n",
       "      <th>0</th>\n",
       "      <th>1</th>\n",
       "      <th>2</th>\n",
       "      <th>3</th>\n",
       "    </tr>\n",
       "  </thead>\n",
       "  <tbody>\n",
       "    <tr>\n",
       "      <th>0</th>\n",
       "      <td>0</td>\n",
       "      <td>1</td>\n",
       "      <td>1</td>\n",
       "      <td>2</td>\n",
       "      <td>3</td>\n",
       "    </tr>\n",
       "    <tr>\n",
       "      <th>1</th>\n",
       "      <td>1</td>\n",
       "      <td>2</td>\n",
       "      <td>5</td>\n",
       "      <td>6</td>\n",
       "      <td>7</td>\n",
       "    </tr>\n",
       "    <tr>\n",
       "      <th>2</th>\n",
       "      <td>2</td>\n",
       "      <td>3</td>\n",
       "      <td>9</td>\n",
       "      <td>10</td>\n",
       "      <td>11</td>\n",
       "    </tr>\n",
       "    <tr>\n",
       "      <th>3</th>\n",
       "      <td>3</td>\n",
       "      <td>4</td>\n",
       "      <td>13</td>\n",
       "      <td>14</td>\n",
       "      <td>15</td>\n",
       "    </tr>\n",
       "    <tr>\n",
       "      <th>4</th>\n",
       "      <td>4</td>\n",
       "      <td>4</td>\n",
       "      <td>17</td>\n",
       "      <td>18</td>\n",
       "      <td>19</td>\n",
       "    </tr>\n",
       "  </tbody>\n",
       "</table>\n",
       "</div>"
      ],
      "text/plain": [
       "   Unnamed: 0  0   1   2   3\n",
       "0           0  1   1   2   3\n",
       "1           1  2   5   6   7\n",
       "2           2  3   9  10  11\n",
       "3           3  4  13  14  15\n",
       "4           4  4  17  18  19"
      ]
     },
     "execution_count": 52,
     "metadata": {},
     "output_type": "execute_result"
    }
   ],
   "source": [
    "df.head()"
   ]
  },
  {
   "cell_type": "code",
   "execution_count": 54,
   "metadata": {},
   "outputs": [
    {
     "data": {
      "text/plain": [
       "Unnamed: 0    1\n",
       "0             2\n",
       "1             5\n",
       "2             6\n",
       "3             7\n",
       "Name: 1, dtype: int64"
      ]
     },
     "execution_count": 54,
     "metadata": {},
     "output_type": "execute_result"
    }
   ],
   "source": [
    "df.iloc[1]"
   ]
  },
  {
   "cell_type": "code",
   "execution_count": 55,
   "metadata": {},
   "outputs": [],
   "source": [
    "df.iloc[2]=[1,1,1,1,1]"
   ]
  },
  {
   "cell_type": "code",
   "execution_count": 57,
   "metadata": {},
   "outputs": [
    {
     "data": {
      "text/plain": [
       "(5, 5)"
      ]
     },
     "execution_count": 57,
     "metadata": {},
     "output_type": "execute_result"
    }
   ],
   "source": [
    "df.shape"
   ]
  },
  {
   "cell_type": "code",
   "execution_count": 58,
   "metadata": {},
   "outputs": [
    {
     "data": {
      "text/plain": [
       "2"
      ]
     },
     "execution_count": 58,
     "metadata": {},
     "output_type": "execute_result"
    }
   ],
   "source": [
    "df.ndim"
   ]
  },
  {
   "cell_type": "code",
   "execution_count": 59,
   "metadata": {},
   "outputs": [
    {
     "data": {
      "text/html": [
       "<div>\n",
       "<style scoped>\n",
       "    .dataframe tbody tr th:only-of-type {\n",
       "        vertical-align: middle;\n",
       "    }\n",
       "\n",
       "    .dataframe tbody tr th {\n",
       "        vertical-align: top;\n",
       "    }\n",
       "\n",
       "    .dataframe thead th {\n",
       "        text-align: right;\n",
       "    }\n",
       "</style>\n",
       "<table border=\"1\" class=\"dataframe\">\n",
       "  <thead>\n",
       "    <tr style=\"text-align: right;\">\n",
       "      <th></th>\n",
       "      <th>Unnamed: 0</th>\n",
       "      <th>0</th>\n",
       "      <th>1</th>\n",
       "      <th>2</th>\n",
       "      <th>3</th>\n",
       "    </tr>\n",
       "  </thead>\n",
       "  <tbody>\n",
       "    <tr>\n",
       "      <th>Unnamed: 0</th>\n",
       "      <td>1.000000</td>\n",
       "      <td>0.943023</td>\n",
       "      <td>0.971537</td>\n",
       "      <td>0.957926</td>\n",
       "      <td>0.942809</td>\n",
       "    </tr>\n",
       "    <tr>\n",
       "      <th>0</th>\n",
       "      <td>0.943023</td>\n",
       "      <td>1.000000</td>\n",
       "      <td>0.980038</td>\n",
       "      <td>0.980715</td>\n",
       "      <td>0.978945</td>\n",
       "    </tr>\n",
       "    <tr>\n",
       "      <th>1</th>\n",
       "      <td>0.971537</td>\n",
       "      <td>0.980038</td>\n",
       "      <td>1.000000</td>\n",
       "      <td>0.998651</td>\n",
       "      <td>0.994937</td>\n",
       "    </tr>\n",
       "    <tr>\n",
       "      <th>2</th>\n",
       "      <td>0.957926</td>\n",
       "      <td>0.980715</td>\n",
       "      <td>0.998651</td>\n",
       "      <td>1.000000</td>\n",
       "      <td>0.998813</td>\n",
       "    </tr>\n",
       "    <tr>\n",
       "      <th>3</th>\n",
       "      <td>0.942809</td>\n",
       "      <td>0.978945</td>\n",
       "      <td>0.994937</td>\n",
       "      <td>0.998813</td>\n",
       "      <td>1.000000</td>\n",
       "    </tr>\n",
       "  </tbody>\n",
       "</table>\n",
       "</div>"
      ],
      "text/plain": [
       "            Unnamed: 0         0         1         2         3\n",
       "Unnamed: 0    1.000000  0.943023  0.971537  0.957926  0.942809\n",
       "0             0.943023  1.000000  0.980038  0.980715  0.978945\n",
       "1             0.971537  0.980038  1.000000  0.998651  0.994937\n",
       "2             0.957926  0.980715  0.998651  1.000000  0.998813\n",
       "3             0.942809  0.978945  0.994937  0.998813  1.000000"
      ]
     },
     "execution_count": 59,
     "metadata": {},
     "output_type": "execute_result"
    }
   ],
   "source": [
    "df.corr()"
   ]
  },
  {
   "cell_type": "code",
   "execution_count": 60,
   "metadata": {},
   "outputs": [
    {
     "data": {
      "text/html": [
       "<div>\n",
       "<style scoped>\n",
       "    .dataframe tbody tr th:only-of-type {\n",
       "        vertical-align: middle;\n",
       "    }\n",
       "\n",
       "    .dataframe tbody tr th {\n",
       "        vertical-align: top;\n",
       "    }\n",
       "\n",
       "    .dataframe thead th {\n",
       "        text-align: right;\n",
       "    }\n",
       "</style>\n",
       "<table border=\"1\" class=\"dataframe\">\n",
       "  <thead>\n",
       "    <tr style=\"text-align: right;\">\n",
       "      <th></th>\n",
       "      <th>Unnamed: 0</th>\n",
       "      <th>0</th>\n",
       "      <th>1</th>\n",
       "      <th>2</th>\n",
       "      <th>3</th>\n",
       "    </tr>\n",
       "  </thead>\n",
       "  <tbody>\n",
       "    <tr>\n",
       "      <th>count</th>\n",
       "      <td>5.000000</td>\n",
       "      <td>5.000000</td>\n",
       "      <td>5.000000</td>\n",
       "      <td>5.000000</td>\n",
       "      <td>5.000000</td>\n",
       "    </tr>\n",
       "    <tr>\n",
       "      <th>mean</th>\n",
       "      <td>1.800000</td>\n",
       "      <td>2.400000</td>\n",
       "      <td>7.400000</td>\n",
       "      <td>8.200000</td>\n",
       "      <td>9.000000</td>\n",
       "    </tr>\n",
       "    <tr>\n",
       "      <th>std</th>\n",
       "      <td>1.643168</td>\n",
       "      <td>1.516575</td>\n",
       "      <td>7.266361</td>\n",
       "      <td>7.496666</td>\n",
       "      <td>7.745967</td>\n",
       "    </tr>\n",
       "    <tr>\n",
       "      <th>min</th>\n",
       "      <td>0.000000</td>\n",
       "      <td>1.000000</td>\n",
       "      <td>1.000000</td>\n",
       "      <td>1.000000</td>\n",
       "      <td>1.000000</td>\n",
       "    </tr>\n",
       "    <tr>\n",
       "      <th>25%</th>\n",
       "      <td>1.000000</td>\n",
       "      <td>1.000000</td>\n",
       "      <td>1.000000</td>\n",
       "      <td>2.000000</td>\n",
       "      <td>3.000000</td>\n",
       "    </tr>\n",
       "    <tr>\n",
       "      <th>50%</th>\n",
       "      <td>1.000000</td>\n",
       "      <td>2.000000</td>\n",
       "      <td>5.000000</td>\n",
       "      <td>6.000000</td>\n",
       "      <td>7.000000</td>\n",
       "    </tr>\n",
       "    <tr>\n",
       "      <th>75%</th>\n",
       "      <td>3.000000</td>\n",
       "      <td>4.000000</td>\n",
       "      <td>13.000000</td>\n",
       "      <td>14.000000</td>\n",
       "      <td>15.000000</td>\n",
       "    </tr>\n",
       "    <tr>\n",
       "      <th>max</th>\n",
       "      <td>4.000000</td>\n",
       "      <td>4.000000</td>\n",
       "      <td>17.000000</td>\n",
       "      <td>18.000000</td>\n",
       "      <td>19.000000</td>\n",
       "    </tr>\n",
       "  </tbody>\n",
       "</table>\n",
       "</div>"
      ],
      "text/plain": [
       "       Unnamed: 0         0          1          2          3\n",
       "count    5.000000  5.000000   5.000000   5.000000   5.000000\n",
       "mean     1.800000  2.400000   7.400000   8.200000   9.000000\n",
       "std      1.643168  1.516575   7.266361   7.496666   7.745967\n",
       "min      0.000000  1.000000   1.000000   1.000000   1.000000\n",
       "25%      1.000000  1.000000   1.000000   2.000000   3.000000\n",
       "50%      1.000000  2.000000   5.000000   6.000000   7.000000\n",
       "75%      3.000000  4.000000  13.000000  14.000000  15.000000\n",
       "max      4.000000  4.000000  17.000000  18.000000  19.000000"
      ]
     },
     "execution_count": 60,
     "metadata": {},
     "output_type": "execute_result"
    }
   ],
   "source": [
    "df.describe()"
   ]
  },
  {
   "cell_type": "code",
   "execution_count": 61,
   "metadata": {},
   "outputs": [
    {
     "name": "stdout",
     "output_type": "stream",
     "text": [
      "<class 'pandas.core.frame.DataFrame'>\n",
      "RangeIndex: 5 entries, 0 to 4\n",
      "Data columns (total 5 columns):\n",
      " #   Column      Non-Null Count  Dtype\n",
      "---  ------      --------------  -----\n",
      " 0   Unnamed: 0  5 non-null      int64\n",
      " 1   0           5 non-null      int64\n",
      " 2   1           5 non-null      int64\n",
      " 3   2           5 non-null      int64\n",
      " 4   3           5 non-null      int64\n",
      "dtypes: int64(5)\n",
      "memory usage: 328.0 bytes\n"
     ]
    }
   ],
   "source": [
    "df.info()"
   ]
  },
  {
   "cell_type": "code",
   "execution_count": 62,
   "metadata": {},
   "outputs": [
    {
     "data": {
      "text/html": [
       "<div>\n",
       "<style scoped>\n",
       "    .dataframe tbody tr th:only-of-type {\n",
       "        vertical-align: middle;\n",
       "    }\n",
       "\n",
       "    .dataframe tbody tr th {\n",
       "        vertical-align: top;\n",
       "    }\n",
       "\n",
       "    .dataframe thead th {\n",
       "        text-align: right;\n",
       "    }\n",
       "</style>\n",
       "<table border=\"1\" class=\"dataframe\">\n",
       "  <thead>\n",
       "    <tr style=\"text-align: right;\">\n",
       "      <th></th>\n",
       "      <th>Unnamed: 0</th>\n",
       "      <th>0</th>\n",
       "      <th>1</th>\n",
       "      <th>2</th>\n",
       "      <th>3</th>\n",
       "    </tr>\n",
       "  </thead>\n",
       "  <tbody>\n",
       "    <tr>\n",
       "      <th>0</th>\n",
       "      <td>False</td>\n",
       "      <td>False</td>\n",
       "      <td>False</td>\n",
       "      <td>False</td>\n",
       "      <td>False</td>\n",
       "    </tr>\n",
       "    <tr>\n",
       "      <th>1</th>\n",
       "      <td>False</td>\n",
       "      <td>False</td>\n",
       "      <td>False</td>\n",
       "      <td>False</td>\n",
       "      <td>False</td>\n",
       "    </tr>\n",
       "    <tr>\n",
       "      <th>2</th>\n",
       "      <td>False</td>\n",
       "      <td>False</td>\n",
       "      <td>False</td>\n",
       "      <td>False</td>\n",
       "      <td>False</td>\n",
       "    </tr>\n",
       "    <tr>\n",
       "      <th>3</th>\n",
       "      <td>False</td>\n",
       "      <td>False</td>\n",
       "      <td>False</td>\n",
       "      <td>False</td>\n",
       "      <td>False</td>\n",
       "    </tr>\n",
       "    <tr>\n",
       "      <th>4</th>\n",
       "      <td>False</td>\n",
       "      <td>False</td>\n",
       "      <td>False</td>\n",
       "      <td>False</td>\n",
       "      <td>False</td>\n",
       "    </tr>\n",
       "  </tbody>\n",
       "</table>\n",
       "</div>"
      ],
      "text/plain": [
       "   Unnamed: 0      0      1      2      3\n",
       "0       False  False  False  False  False\n",
       "1       False  False  False  False  False\n",
       "2       False  False  False  False  False\n",
       "3       False  False  False  False  False\n",
       "4       False  False  False  False  False"
      ]
     },
     "execution_count": 62,
     "metadata": {},
     "output_type": "execute_result"
    }
   ],
   "source": [
    "df.isna()"
   ]
  },
  {
   "cell_type": "code",
   "execution_count": 63,
   "metadata": {},
   "outputs": [
    {
     "data": {
      "text/html": [
       "<div>\n",
       "<style scoped>\n",
       "    .dataframe tbody tr th:only-of-type {\n",
       "        vertical-align: middle;\n",
       "    }\n",
       "\n",
       "    .dataframe tbody tr th {\n",
       "        vertical-align: top;\n",
       "    }\n",
       "\n",
       "    .dataframe thead th {\n",
       "        text-align: right;\n",
       "    }\n",
       "</style>\n",
       "<table border=\"1\" class=\"dataframe\">\n",
       "  <thead>\n",
       "    <tr style=\"text-align: right;\">\n",
       "      <th></th>\n",
       "      <th>Unnamed: 0</th>\n",
       "      <th>0</th>\n",
       "      <th>1</th>\n",
       "      <th>2</th>\n",
       "      <th>3</th>\n",
       "    </tr>\n",
       "  </thead>\n",
       "  <tbody>\n",
       "    <tr>\n",
       "      <th>0</th>\n",
       "      <td>True</td>\n",
       "      <td>True</td>\n",
       "      <td>True</td>\n",
       "      <td>True</td>\n",
       "      <td>True</td>\n",
       "    </tr>\n",
       "    <tr>\n",
       "      <th>1</th>\n",
       "      <td>True</td>\n",
       "      <td>True</td>\n",
       "      <td>True</td>\n",
       "      <td>True</td>\n",
       "      <td>True</td>\n",
       "    </tr>\n",
       "    <tr>\n",
       "      <th>2</th>\n",
       "      <td>True</td>\n",
       "      <td>True</td>\n",
       "      <td>True</td>\n",
       "      <td>True</td>\n",
       "      <td>True</td>\n",
       "    </tr>\n",
       "    <tr>\n",
       "      <th>3</th>\n",
       "      <td>True</td>\n",
       "      <td>True</td>\n",
       "      <td>True</td>\n",
       "      <td>True</td>\n",
       "      <td>True</td>\n",
       "    </tr>\n",
       "    <tr>\n",
       "      <th>4</th>\n",
       "      <td>True</td>\n",
       "      <td>True</td>\n",
       "      <td>True</td>\n",
       "      <td>True</td>\n",
       "      <td>True</td>\n",
       "    </tr>\n",
       "  </tbody>\n",
       "</table>\n",
       "</div>"
      ],
      "text/plain": [
       "   Unnamed: 0     0     1     2     3\n",
       "0        True  True  True  True  True\n",
       "1        True  True  True  True  True\n",
       "2        True  True  True  True  True\n",
       "3        True  True  True  True  True\n",
       "4        True  True  True  True  True"
      ]
     },
     "execution_count": 63,
     "metadata": {},
     "output_type": "execute_result"
    }
   ],
   "source": [
    "df.notna()"
   ]
  },
  {
   "cell_type": "code",
   "execution_count": 74,
   "metadata": {},
   "outputs": [
    {
     "data": {
      "text/html": [
       "<div>\n",
       "<style scoped>\n",
       "    .dataframe tbody tr th:only-of-type {\n",
       "        vertical-align: middle;\n",
       "    }\n",
       "\n",
       "    .dataframe tbody tr th {\n",
       "        vertical-align: top;\n",
       "    }\n",
       "\n",
       "    .dataframe thead th {\n",
       "        text-align: right;\n",
       "    }\n",
       "</style>\n",
       "<table border=\"1\" class=\"dataframe\">\n",
       "  <thead>\n",
       "    <tr style=\"text-align: right;\">\n",
       "      <th></th>\n",
       "      <th>Unnamed: 0</th>\n",
       "      <th>0</th>\n",
       "      <th>1</th>\n",
       "      <th>2</th>\n",
       "      <th>3</th>\n",
       "    </tr>\n",
       "  </thead>\n",
       "  <tbody>\n",
       "    <tr>\n",
       "      <th>1</th>\n",
       "      <td>1</td>\n",
       "      <td>2</td>\n",
       "      <td>5</td>\n",
       "      <td>6</td>\n",
       "      <td>7</td>\n",
       "    </tr>\n",
       "    <tr>\n",
       "      <th>3</th>\n",
       "      <td>3</td>\n",
       "      <td>4</td>\n",
       "      <td>13</td>\n",
       "      <td>14</td>\n",
       "      <td>15</td>\n",
       "    </tr>\n",
       "    <tr>\n",
       "      <th>4</th>\n",
       "      <td>4</td>\n",
       "      <td>4</td>\n",
       "      <td>17</td>\n",
       "      <td>18</td>\n",
       "      <td>19</td>\n",
       "    </tr>\n",
       "  </tbody>\n",
       "</table>\n",
       "</div>"
      ],
      "text/plain": [
       "   Unnamed: 0  0   1   2   3\n",
       "1           1  2   5   6   7\n",
       "3           3  4  13  14  15\n",
       "4           4  4  17  18  19"
      ]
     },
     "execution_count": 74,
     "metadata": {},
     "output_type": "execute_result"
    }
   ],
   "source": [
    "df[df['1']>3]"
   ]
  },
  {
   "cell_type": "code",
   "execution_count": 75,
   "metadata": {},
   "outputs": [
    {
     "data": {
      "text/html": [
       "<div>\n",
       "<style scoped>\n",
       "    .dataframe tbody tr th:only-of-type {\n",
       "        vertical-align: middle;\n",
       "    }\n",
       "\n",
       "    .dataframe tbody tr th {\n",
       "        vertical-align: top;\n",
       "    }\n",
       "\n",
       "    .dataframe thead th {\n",
       "        text-align: right;\n",
       "    }\n",
       "</style>\n",
       "<table border=\"1\" class=\"dataframe\">\n",
       "  <thead>\n",
       "    <tr style=\"text-align: right;\">\n",
       "      <th></th>\n",
       "      <th>Unnamed: 0</th>\n",
       "      <th>0</th>\n",
       "      <th>1</th>\n",
       "      <th>2</th>\n",
       "      <th>3</th>\n",
       "    </tr>\n",
       "  </thead>\n",
       "  <tbody>\n",
       "    <tr>\n",
       "      <th>0</th>\n",
       "      <td>0</td>\n",
       "      <td>1</td>\n",
       "      <td>1</td>\n",
       "      <td>2</td>\n",
       "      <td>3</td>\n",
       "    </tr>\n",
       "    <tr>\n",
       "      <th>1</th>\n",
       "      <td>1</td>\n",
       "      <td>2</td>\n",
       "      <td>5</td>\n",
       "      <td>6</td>\n",
       "      <td>7</td>\n",
       "    </tr>\n",
       "    <tr>\n",
       "      <th>2</th>\n",
       "      <td>1</td>\n",
       "      <td>1</td>\n",
       "      <td>1</td>\n",
       "      <td>1</td>\n",
       "      <td>1</td>\n",
       "    </tr>\n",
       "    <tr>\n",
       "      <th>3</th>\n",
       "      <td>3</td>\n",
       "      <td>4</td>\n",
       "      <td>13</td>\n",
       "      <td>14</td>\n",
       "      <td>15</td>\n",
       "    </tr>\n",
       "    <tr>\n",
       "      <th>4</th>\n",
       "      <td>4</td>\n",
       "      <td>4</td>\n",
       "      <td>17</td>\n",
       "      <td>18</td>\n",
       "      <td>19</td>\n",
       "    </tr>\n",
       "  </tbody>\n",
       "</table>\n",
       "</div>"
      ],
      "text/plain": [
       "   Unnamed: 0  0   1   2   3\n",
       "0           0  1   1   2   3\n",
       "1           1  2   5   6   7\n",
       "2           1  1   1   1   1\n",
       "3           3  4  13  14  15\n",
       "4           4  4  17  18  19"
      ]
     },
     "execution_count": 75,
     "metadata": {},
     "output_type": "execute_result"
    }
   ],
   "source": [
    "df[0:]"
   ]
  },
  {
   "cell_type": "code",
   "execution_count": 81,
   "metadata": {},
   "outputs": [
    {
     "data": {
      "text/html": [
       "<div>\n",
       "<style scoped>\n",
       "    .dataframe tbody tr th:only-of-type {\n",
       "        vertical-align: middle;\n",
       "    }\n",
       "\n",
       "    .dataframe tbody tr th {\n",
       "        vertical-align: top;\n",
       "    }\n",
       "\n",
       "    .dataframe thead th {\n",
       "        text-align: right;\n",
       "    }\n",
       "</style>\n",
       "<table border=\"1\" class=\"dataframe\">\n",
       "  <thead>\n",
       "    <tr style=\"text-align: right;\">\n",
       "      <th></th>\n",
       "      <th>Unnamed: 0</th>\n",
       "      <th>0</th>\n",
       "      <th>1</th>\n",
       "      <th>2</th>\n",
       "      <th>3</th>\n",
       "    </tr>\n",
       "  </thead>\n",
       "  <tbody>\n",
       "    <tr>\n",
       "      <th>1</th>\n",
       "      <td>1</td>\n",
       "      <td>2</td>\n",
       "      <td>5</td>\n",
       "      <td>6</td>\n",
       "      <td>7</td>\n",
       "    </tr>\n",
       "    <tr>\n",
       "      <th>2</th>\n",
       "      <td>1</td>\n",
       "      <td>1</td>\n",
       "      <td>1</td>\n",
       "      <td>1</td>\n",
       "      <td>1</td>\n",
       "    </tr>\n",
       "    <tr>\n",
       "      <th>3</th>\n",
       "      <td>3</td>\n",
       "      <td>4</td>\n",
       "      <td>13</td>\n",
       "      <td>14</td>\n",
       "      <td>15</td>\n",
       "    </tr>\n",
       "    <tr>\n",
       "      <th>4</th>\n",
       "      <td>4</td>\n",
       "      <td>4</td>\n",
       "      <td>17</td>\n",
       "      <td>18</td>\n",
       "      <td>19</td>\n",
       "    </tr>\n",
       "  </tbody>\n",
       "</table>\n",
       "</div>"
      ],
      "text/plain": [
       "   Unnamed: 0  0   1   2   3\n",
       "1           1  2   5   6   7\n",
       "2           1  1   1   1   1\n",
       "3           3  4  13  14  15\n",
       "4           4  4  17  18  19"
      ]
     },
     "execution_count": 81,
     "metadata": {},
     "output_type": "execute_result"
    }
   ],
   "source": [
    "df[1:]"
   ]
  },
  {
   "cell_type": "code",
   "execution_count": 90,
   "metadata": {},
   "outputs": [
    {
     "name": "stdout",
     "output_type": "stream",
     "text": [
      "<class 'list'>\n",
      "<class 'numpy.ndarray'>\n",
      "(4,)\n",
      "4\n"
     ]
    }
   ],
   "source": [
    "#numpy\n",
    "import numpy as np\n",
    "a=[1,2,3,4]\n",
    "print(type(a))\n",
    "a=np.array(a)\n",
    "print(type(a))\n",
    "a\n",
    "print(np.shape(a))\n",
    "print(np.size(a))"
   ]
  },
  {
   "cell_type": "code",
   "execution_count": 97,
   "metadata": {},
   "outputs": [
    {
     "name": "stdout",
     "output_type": "stream",
     "text": [
      "<class 'numpy.ndarray'>\n",
      "(2, 5)\n",
      "10\n"
     ]
    }
   ],
   "source": [
    "\n",
    "b=np.array([[1,2,3,4,5],[1,2,3,4,5]])\n",
    "print(type(b))\n",
    "print(np.shape(b))\n",
    "print(np.size(b))\n"
   ]
  },
  {
   "cell_type": "code",
   "execution_count": 140,
   "metadata": {},
   "outputs": [
    {
     "name": "stdout",
     "output_type": "stream",
     "text": [
      "[[ 0  1  2  3  4]\n",
      " [ 5  6  7  8  9]\n",
      " [10 11 12 13 14]\n",
      " [15 16 17 18 19]]\n",
      "<class 'numpy.ndarray'>\n",
      "(4, 5)\n",
      "20\n",
      "2\n"
     ]
    }
   ],
   "source": [
    "c=np.arange(0,20).reshape(4,5)\n",
    "print(c)\n",
    "print(type(c))\n",
    "print(np.shape(c))\n",
    "print(np.size(c))\n",
    "print(np.ndim(c))"
   ]
  },
  {
   "cell_type": "code",
   "execution_count": 142,
   "metadata": {},
   "outputs": [
    {
     "name": "stdout",
     "output_type": "stream",
     "text": [
      "[0 1 2 3 4]\n",
      "7\n",
      "[[ 1  2  3  4]\n",
      " [ 6  7  8  9]\n",
      " [11 12 13 14]\n",
      " [16 17 18 19]]\n",
      "[[6 7 8 9]]\n"
     ]
    }
   ],
   "source": [
    "print(c[0])\n",
    "print(c[1][2])\n",
    "print(c[0:,1:])\n",
    "\n",
    "print(c[1:2,1:])"
   ]
  },
  {
   "cell_type": "code",
   "execution_count": 113,
   "metadata": {},
   "outputs": [
    {
     "data": {
      "text/plain": [
       "array([[0.24885383, 0.23755539, 0.02110313, 0.66090115, 0.01467818],\n",
       "       [0.68633771, 0.77853867, 0.01278059, 0.45560114, 0.69609401]])"
      ]
     },
     "execution_count": 113,
     "metadata": {},
     "output_type": "execute_result"
    }
   ],
   "source": [
    "a=np.random.rand(10).reshape(2,5)\n",
    "a"
   ]
  },
  {
   "cell_type": "code",
   "execution_count": 120,
   "metadata": {},
   "outputs": [
    {
     "data": {
      "text/plain": [
       "array([[92, 49, 17, 78, 26],\n",
       "       [36,  8, 34, 74, 32]])"
      ]
     },
     "execution_count": 120,
     "metadata": {},
     "output_type": "execute_result"
    }
   ],
   "source": [
    "b=np.random.randint(0,100,10).reshape(2,5)\n",
    "b"
   ]
  },
  {
   "cell_type": "code",
   "execution_count": 124,
   "metadata": {},
   "outputs": [
    {
     "data": {
      "text/plain": [
       "array([-0.21684546, -0.65511625, -0.12101983, -0.31862516,  1.79480468,\n",
       "       -0.01226899, -0.44474759,  1.3065078 , -0.06180739, -1.46079989])"
      ]
     },
     "execution_count": 124,
     "metadata": {},
     "output_type": "execute_result"
    }
   ],
   "source": [
    "c=np.random.randn(10)\n",
    "c"
   ]
  },
  {
   "cell_type": "code",
   "execution_count": 134,
   "metadata": {},
   "outputs": [
    {
     "data": {
      "text/plain": [
       "(10,)"
      ]
     },
     "execution_count": 134,
     "metadata": {},
     "output_type": "execute_result"
    }
   ],
   "source": [
    "np.ndim(c)\n",
    "np.shape(c)"
   ]
  },
  {
   "cell_type": "code",
   "execution_count": null,
   "metadata": {},
   "outputs": [],
   "source": []
  }
 ],
 "metadata": {
  "kernelspec": {
   "display_name": "Python 3",
   "language": "python",
   "name": "python3"
  },
  "language_info": {
   "codemirror_mode": {
    "name": "ipython",
    "version": 3
   },
   "file_extension": ".py",
   "mimetype": "text/x-python",
   "name": "python",
   "nbconvert_exporter": "python",
   "pygments_lexer": "ipython3",
   "version": "3.8.5"
  }
 },
 "nbformat": 4,
 "nbformat_minor": 4
}
