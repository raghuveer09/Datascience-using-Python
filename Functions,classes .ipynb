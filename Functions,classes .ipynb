{
 "cells": [
  {
   "cell_type": "code",
   "execution_count": 20,
   "metadata": {},
   "outputs": [
    {
     "name": "stdout",
     "output_type": "stream",
     "text": [
      "enter the number you want to sqaure2\n",
      "enter one number2\n",
      "enter another number2\n",
      "Enter your name: 2\n",
      "Hello 2\n"
     ]
    }
   ],
   "source": [
    "#functions in python\n",
    "def square():\n",
    "    a=2\n",
    "    return a**a\n",
    "square()#how many times you will call you will get only the same out put \n",
    "#writing the square function with parameters\n",
    "def square2(a):\n",
    "    c=a**2\n",
    "    return c\n",
    "square2(2)\n",
    "square2(4)\n",
    "#writing square function by asking the user input\n",
    "a=int(input(\"enter the number you want to sqaure\"))\n",
    "def square3(a):\n",
    "    d=a**2\n",
    "    return d\n",
    "square3(a)\n",
    "##\n",
    "##writing addition and multiplication functions with user input\n",
    "x=int(input(\"enter one number\"))\n",
    "y=int(input(\"enter another number\"))\n",
    "def add(x,y):\n",
    "    return x+y\n",
    "add(x,y)\n",
    "def sub(x,y):\n",
    "    return x-y\n",
    "sub(x,y)\n",
    "def mul(x,y):\n",
    "    return x*y\n",
    "mul(x,y)\n",
    "##writing the condition it will gives output as helloworld if you dont given your name if gives yur name it will say hello your name\n",
    "name=input(\"Enter your name: \")\n",
    "if len(name)==0:\n",
    "    print(\"Hello World\")\n",
    "else :\n",
    "    print(\"Hello\", name,)"
   ]
  },
  {
   "cell_type": "code",
   "execution_count": 37,
   "metadata": {},
   "outputs": [
    {
     "data": {
      "text/plain": [
       "'rp'"
      ]
     },
     "execution_count": 37,
     "metadata": {},
     "output_type": "execute_result"
    }
   ],
   "source": [
    "##classes\n",
    "title='ls3'\n",
    "author=\"rp\"\n",
    "class Book:\n",
    "    def __init__(self,title,author):\n",
    "        self.title=title\n",
    "        self.author=author\n",
    "myBook=Book(title,author)\n",
    "myBook.title\n",
    "myBook.author\n",
    "myBook.title=\"Love Story2\"\n",
    "myBook.title\n",
    "myBook.author"
   ]
  },
  {
   "cell_type": "code",
   "execution_count": null,
   "metadata": {},
   "outputs": [],
   "source": []
  }
 ],
 "metadata": {
  "kernelspec": {
   "display_name": "Python 3",
   "language": "python",
   "name": "python3"
  },
  "language_info": {
   "codemirror_mode": {
    "name": "ipython",
    "version": 3
   },
   "file_extension": ".py",
   "mimetype": "text/x-python",
   "name": "python",
   "nbconvert_exporter": "python",
   "pygments_lexer": "ipython3",
   "version": "3.8.5"
  }
 },
 "nbformat": 4,
 "nbformat_minor": 4
}
